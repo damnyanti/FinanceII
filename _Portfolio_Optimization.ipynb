{
  "nbformat": 4,
  "nbformat_minor": 0,
  "metadata": {
    "colab": {
      "name": "Copy of Portfolio_Optimization.ipynb",
      "provenance": [],
      "collapsed_sections": []
    },
    "kernelspec": {
      "display_name": "Python 3",
      "language": "python",
      "name": "python3"
    },
    "language_info": {
      "codemirror_mode": {
        "name": "ipython",
        "version": 3
      },
      "file_extension": ".py",
      "mimetype": "text/x-python",
      "name": "python",
      "nbconvert_exporter": "python",
      "pygments_lexer": "ipython3",
      "version": "3.7.3"
    }
  },
  "cells": [
    {
      "cell_type": "code",
      "metadata": {
        "colab_type": "code",
        "id": "pRYIUS1jUiAD",
        "colab": {}
      },
      "source": [
        "#Importing Libraries\n",
        "\n",
        "import numpy as np\n",
        "import cvxpy as cvx\n",
        "import pandas as pd\n",
        "from datetime import datetime\n",
        "import matplotlib.pyplot as plt\n",
        "import seaborn as sns\n",
        "import pandas_datareader.data as pdr"
      ],
      "execution_count": null,
      "outputs": []
    },
    {
      "cell_type": "markdown",
      "metadata": {
        "colab_type": "text",
        "id": "1H_b-mJ-Z5zT"
      },
      "source": [
        "## Optimization with cvxpy\n",
        "\n",
        "http://www.cvxpy.org/\n",
        "\n",
        "Practice using cvxpy to solve a simple optimization problem. Find the optimal weights on a m-asset portfolio given the covariance matrix of the returns of m-stocks . Create a function that takes in these values as arguments and returns the vector of optimal weights.\n"
      ]
    },
    {
      "cell_type": "markdown",
      "metadata": {
        "colab_type": "text",
        "id": "iL5FmiDYap6n"
      },
      "source": [
        "## Hints\n",
        "\n",
        "### x vector\n",
        "To create a vector of M variables $\\mathbf{x} = \\begin{bmatrix}\n",
        "x_1 &...& x_M\n",
        "\\end{bmatrix}\n",
        "$\n",
        "we can use `cvx.Variable(m)`\n",
        "\n",
        "### covariance matrix\n",
        "If we have $m$ stock series, the covariance matrix is an $m \\times m$ matrix containing the covariance between each pair of stocks.  We can use [numpy.cov](https://docs.scipy.org/doc/numpy/reference/generated/numpy.cov.html) to get the covariance.  We give it a 2D array in which each row is a stock series, and each column is an observation at the same period of time.\n",
        "\n",
        "The covariance matrix $\\mathbf{P} = \n",
        "\\begin{bmatrix}\n",
        "\\sigma^2_{1,1} & ... & \\sigma^2_{1,m} \\\\ \n",
        "... & ... & ...\\\\\n",
        "\\sigma_{m,1} & ... & \\sigma^2_{m,m}  \\\\\n",
        "\\end{bmatrix}$"
      ]
    },
    {
      "cell_type": "markdown",
      "metadata": {
        "colab_type": "text",
        "id": "3vjuVMVDa0Wr"
      },
      "source": [
        "### portfolio variance\n",
        "We can write the portfolio variance $\\sigma^2_p = \\mathbf{x^T} \\mathbf{P} \\mathbf{x}$\n",
        "\n",
        "Recall that the $\\mathbf{x^T} \\mathbf{P} \\mathbf{x}$ is called the quadratic form.\n",
        "We can use the cvxpy function `quad_form(x,P)` to get the quadratic form."
      ]
    },
    {
      "cell_type": "markdown",
      "metadata": {
        "colab_type": "text",
        "id": "7I57Ktg8bCxY"
      },
      "source": [
        "### optimization\n",
        "So now that we have our objective function and constraints, we can solve for the values of $\\mathbf{x}$.\n",
        "cvxpy has the constructor `Problem(objective, constraints)`, which returns a `Problem` object.\n",
        "\n",
        "The `Problem` object has a function solve(), which returns the minimum of the solution.  In this case, this is the minimum variance of the portfolio.\n",
        "\n",
        "It also updates the vector $\\mathbf{x}$.\n",
        "\n",
        "We can check out the values of vector of weights x that gave the minimum portfolio variance by using `x.value`"
      ]
    },
    {
      "cell_type": "code",
      "metadata": {
        "colab_type": "code",
        "id": "nMxFv5u4ZAxf",
        "colab": {}
      },
      "source": [
        "def optimize_portfolio(returns):\n",
        "    \"\"\"\n",
        "    Create a function that takes the return series of a set of stocks,The function \n",
        "    will minimize a combination of the portfolio variance.  \n",
        "    The optimization will be constrained to be long only, and the weights should sum to one.\n",
        "    \n",
        "    Parameters\n",
        "    ----------\n",
        "    returns : numpy.ndarray\n",
        "        2D array containing stock return series in each row.\n",
        "        \n",
        "    index_weights : numpy.ndarray\n",
        "        1D numpy array containing weights of the index.\n",
        "        \n",
        "\n",
        "        \n",
        "    Returns\n",
        "    -------\n",
        "    x : np.ndarray\n",
        "        A numpy ndarray containing the weights of the stocks in the optimized portfolio\n",
        "    \"\"\"\n",
        "    # TODO: Use cvxpy to determine the weights on the assets\n",
        "    # that minimizes the  portfolio variance \n",
        "    \n",
        "    # number of stocks m is number of rows of returns, and also number of index weights\n",
        "    \n",
        "    m = len(returns)\n",
        "    #covariance matrix of returns\n",
        "    cov = np.asmatrix(np.cov(returns))\n",
        "    \n",
        "    # x variables (to be found with optimization)\n",
        "    x = cvx.Variable(m)\n",
        "    \n",
        "    #portfolio variance, in quadratic form\n",
        "    portfolio_variance = cvx.quad_form(x,cov)   \n",
        "    \n",
        "    #objective function\n",
        "    objective = cvx.Minimize(portfolio_variance)\n",
        "    \n",
        "    #constraints\n",
        "    constraints = [x >= 0, sum(x) == 1]\n",
        "\n",
        "    #use cvxpy to solve the objective\n",
        "    prob = cvx.Problem(objective, constraints)\n",
        "    prob.solve()\n",
        "    x_values = x.value\n",
        "\n",
        "    return x_values"
      ],
      "execution_count": null,
      "outputs": []
    },
    {
      "cell_type": "code",
      "metadata": {
        "colab_type": "code",
        "id": "D7oPVKznZAM8",
        "colab": {
          "base_uri": "https://localhost:8080/",
          "height": 235
        },
        "outputId": "422ab62b-e106-482d-8ea1-220652c1acea"
      },
      "source": [
        "#Stock_Data_Extraction\n",
        "tickers = [\"ASIANPAINT.NS\",\"ADANIPORTS.NS\",\"AXISBANK.NS\",\"BAJAJ-AUTO.NS\",\n",
        "           \"BAJFINANCE.NS\",\"BAJAJFINSV.NS\",\"BPCL.NS\",\"BHARTIARTL.NS\",\n",
        "           \"INFRATEL.NS\",\"CIPLA.NS\",\"COALINDIA.NS\",\"DRREDDY.NS\",\"EICHERMOT.NS\",\n",
        "           \"GAIL.NS\",\"GRASIM.NS\",\"HCLTECH.NS\",\"HDFCBANK.NS\",\"HEROMOTOCO.NS\",\n",
        "           \"HINDALCO.NS\",\"HINDPETRO.NS\",\"HINDUNILVR.NS\",\"HDFC.NS\",\"ITC.NS\",\n",
        "           \"ICICIBANK.NS\",\"IBULHSGFIN.NS\",\"IOC.NS\",\"INDUSINDBK.NS\",\"INFY.NS\",\n",
        "           \"KOTAKBANK.NS\",\"LT.NS\",\"LUPIN.NS\",\"M&M.NS\",\"MARUTI.NS\",\"NTPC.NS\",\n",
        "           \"ONGC.NS\",\"POWERGRID.NS\",\"RELIANCE.NS\",\"SBIN.NS\",\"SUNPHARMA.NS\",\n",
        "           \"TCS.NS\",\"TATAMOTORS.NS\",\"TATASTEEL.NS\",\"TECHM.NS\",\"TITAN.NS\",\n",
        "           \"UPL.NS\",\"ULTRACEMCO.NS\",\"VEDL.NS\",\"WIPRO.NS\",\"YESBANK.NS\",\"ZEEL.NS\"]\n",
        "\n",
        "start= datetime(2018,1,1)\n",
        "end = datetime.today()\n",
        "\n",
        "#Creeating a dictionary to store data for all stocks.\n",
        "ohlc_daily = {}\n",
        "for i in range(len(tickers)):\n",
        "    ohlc_daily[tickers[i]] = pdr.get_data_yahoo(tickers[i],start = start , end = end)\n",
        "\n",
        "#Creating a dataframe to store daily_returns of all stocks\n",
        "returns = pd.DataFrame()\n",
        "for ticker in tickers:\n",
        "    returns[ticker] = (ohlc_daily[ticker]['Adj Close'].pct_change())\n",
        "returns = returns.dropna(axis=0)\n",
        "\n",
        "#Applying Optimization function to get min_variance_weights\n",
        "min_var_weights = optimize_portfolio(returns.T)\n",
        "print(min_var_weights)"
      ],
      "execution_count": null,
      "outputs": [
        {
          "output_type": "stream",
          "text": [
            "[ 1.02238463e-01  8.24466807e-20  5.75851168e-20 -1.81311098e-19\n",
            "  1.47639361e-19 -2.43750424e-20  2.89870550e-19  6.11515748e-03\n",
            "  1.54169262e-02  5.31387393e-02  4.21301024e-02  8.38954058e-02\n",
            " -6.75771904e-20  1.14683666e-19 -1.19294858e-21  4.26422306e-03\n",
            "  5.66547681e-02 -1.72068520e-19  2.54767785e-19  1.64827439e-19\n",
            "  7.84463961e-02  3.88090698e-20  5.28632550e-02  8.82947521e-21\n",
            " -1.95820418e-19  1.41516445e-03 -1.46022152e-21  1.30761604e-02\n",
            " -2.28966203e-19 -1.51951953e-21  8.17514945e-02 -1.46402446e-19\n",
            " -1.38217968e-20  5.43137684e-02  3.09591910e-19  1.51902806e-01\n",
            " -1.67143142e-19  1.72826446e-19  1.98460802e-19  1.05953927e-01\n",
            "  1.83380230e-19  1.69840782e-19  1.79001870e-19  2.22546769e-03\n",
            "  1.48019307e-19 -6.83409689e-21  2.03501280e-19  7.14631630e-02\n",
            "  2.27346122e-02  5.62229811e-20]\n"
          ],
          "name": "stdout"
        }
      ]
    },
    {
      "cell_type": "code",
      "metadata": {
        "id": "MaMLKU5UD3AH",
        "colab_type": "code",
        "colab": {}
      },
      "source": [
        "portfolio = pd.DataFrame()\n",
        "portfolio['ret'] = np.sum(min_var_weights*returns,axis=1)"
      ],
      "execution_count": null,
      "outputs": []
    },
    {
      "cell_type": "code",
      "metadata": {
        "id": "c9kbJfJMEGJs",
        "colab_type": "code",
        "colab": {}
      },
      "source": [
        "def performance_analysis(df,window,rf,leverage):    \n",
        "    \n",
        "    df['cum_return'] = (1+df['ret']*leverage).cumprod()\n",
        "    Cumm_Ret = (df['cum_return'].iloc[-1]-1)\n",
        "    n = len(df)/(252)   \n",
        "    CAGR = ((df[\"cum_return\"].iloc[-1])**(1/n) - 1)\n",
        "    \n",
        "    df['rolling_volatility'] = df['ret'].rolling(window).std()\n",
        "    volatility =  df['ret'].std()*np.sqrt(252)\n",
        "    \n",
        "    df['rolling_sharpe'] = df['ret'].rolling(window).mean()/df['ret'].rolling(window).std()*np.sqrt(window)\n",
        "    sr = (CAGR - rf)/volatility\n",
        "    \n",
        "  \n",
        "    \n",
        "    df[\"cum_roll_max\"] = df[\"cum_return\"].cummax()\n",
        "    df[\"drawdown\"] = df[\"cum_roll_max\"] - df[\"cum_return\"]\n",
        "    df[\"drawdown_pct\"] = df[\"drawdown\"]/df[\"cum_roll_max\"]\n",
        "    max_dd = df[\"drawdown_pct\"].max()\n",
        "    \n",
        "    df[\"Year\"] = df.index.map(lambda x: x.year)\n",
        "    df[\"Month\"] = df.index.map(lambda x: x.strftime(\"%b\"))\n",
        "    pt = df.pivot_table(index=\"Month\",columns=\"Year\",values=\"ret\", aggfunc=\"sum\").fillna(0)\n",
        "    months = [\"Jan\", \"Feb\", \"Mar\", \"Apr\", \"May\", \"Jun\", \"Jul\", \"Aug\", \"Sep\", \"Oct\", \"Nov\", \"Dec\"]\n",
        "    pt = pt.reindex(months)    \n",
        "    sns.heatmap(pt, annot=True, cmap=\"RdYlGn\")\n",
        "    \n",
        "    performance_df = pd.DataFrame([Cumm_Ret*100,CAGR*100,volatility,sr,max_dd*100],index=[\"Cumm_Return\",\"Annual_Return\",\"Volatility\",\"Sharpe Ratio\",\"Max Drawdown\"])      \n",
        "    print(performance_df)\n",
        "\n",
        "    return df\n"
      ],
      "execution_count": null,
      "outputs": []
    },
    {
      "cell_type": "code",
      "metadata": {
        "id": "M2kRu5aPEeF0",
        "colab_type": "code",
        "colab": {
          "base_uri": "https://localhost:8080/",
          "height": 794
        },
        "outputId": "9c910c01-448a-4db9-93ce-c8ecd762e625"
      },
      "source": [
        "window = 20\n",
        "rf = 0\n",
        "leverage=1\n",
        "performance_analysis(portfolio,window,rf,leverage = 1)"
      ],
      "execution_count": null,
      "outputs": [
        {
          "output_type": "stream",
          "text": [
            "                       0\n",
            "Cumm_Return    23.740760\n",
            "Annual_Return   8.821256\n",
            "Volatility      0.159637\n",
            "Sharpe Ratio    0.552583\n",
            "Max Drawdown   22.418449\n"
          ],
          "name": "stdout"
        },
        {
          "output_type": "execute_result",
          "data": {
            "text/html": [
              "<div>\n",
              "<style scoped>\n",
              "    .dataframe tbody tr th:only-of-type {\n",
              "        vertical-align: middle;\n",
              "    }\n",
              "\n",
              "    .dataframe tbody tr th {\n",
              "        vertical-align: top;\n",
              "    }\n",
              "\n",
              "    .dataframe thead th {\n",
              "        text-align: right;\n",
              "    }\n",
              "</style>\n",
              "<table border=\"1\" class=\"dataframe\">\n",
              "  <thead>\n",
              "    <tr style=\"text-align: right;\">\n",
              "      <th></th>\n",
              "      <th>ret</th>\n",
              "      <th>cum_return</th>\n",
              "      <th>rolling_volatility</th>\n",
              "      <th>rolling_sharpe</th>\n",
              "      <th>cum_roll_max</th>\n",
              "      <th>drawdown</th>\n",
              "      <th>drawdown_pct</th>\n",
              "      <th>Year</th>\n",
              "      <th>Month</th>\n",
              "    </tr>\n",
              "    <tr>\n",
              "      <th>Date</th>\n",
              "      <th></th>\n",
              "      <th></th>\n",
              "      <th></th>\n",
              "      <th></th>\n",
              "      <th></th>\n",
              "      <th></th>\n",
              "      <th></th>\n",
              "      <th></th>\n",
              "      <th></th>\n",
              "    </tr>\n",
              "  </thead>\n",
              "  <tbody>\n",
              "    <tr>\n",
              "      <th>2018-01-02</th>\n",
              "      <td>0.000655</td>\n",
              "      <td>1.000655</td>\n",
              "      <td>NaN</td>\n",
              "      <td>NaN</td>\n",
              "      <td>1.000655</td>\n",
              "      <td>0.000000</td>\n",
              "      <td>0.000000</td>\n",
              "      <td>2018</td>\n",
              "      <td>Jan</td>\n",
              "    </tr>\n",
              "    <tr>\n",
              "      <th>2018-01-03</th>\n",
              "      <td>-0.003078</td>\n",
              "      <td>0.997575</td>\n",
              "      <td>NaN</td>\n",
              "      <td>NaN</td>\n",
              "      <td>1.000655</td>\n",
              "      <td>0.003080</td>\n",
              "      <td>0.003078</td>\n",
              "      <td>2018</td>\n",
              "      <td>Jan</td>\n",
              "    </tr>\n",
              "    <tr>\n",
              "      <th>2018-01-04</th>\n",
              "      <td>0.007742</td>\n",
              "      <td>1.005299</td>\n",
              "      <td>NaN</td>\n",
              "      <td>NaN</td>\n",
              "      <td>1.005299</td>\n",
              "      <td>0.000000</td>\n",
              "      <td>0.000000</td>\n",
              "      <td>2018</td>\n",
              "      <td>Jan</td>\n",
              "    </tr>\n",
              "    <tr>\n",
              "      <th>2018-01-05</th>\n",
              "      <td>0.008707</td>\n",
              "      <td>1.014052</td>\n",
              "      <td>NaN</td>\n",
              "      <td>NaN</td>\n",
              "      <td>1.014052</td>\n",
              "      <td>0.000000</td>\n",
              "      <td>0.000000</td>\n",
              "      <td>2018</td>\n",
              "      <td>Jan</td>\n",
              "    </tr>\n",
              "    <tr>\n",
              "      <th>2018-01-08</th>\n",
              "      <td>0.005482</td>\n",
              "      <td>1.019611</td>\n",
              "      <td>NaN</td>\n",
              "      <td>NaN</td>\n",
              "      <td>1.019611</td>\n",
              "      <td>0.000000</td>\n",
              "      <td>0.000000</td>\n",
              "      <td>2018</td>\n",
              "      <td>Jan</td>\n",
              "    </tr>\n",
              "    <tr>\n",
              "      <th>...</th>\n",
              "      <td>...</td>\n",
              "      <td>...</td>\n",
              "      <td>...</td>\n",
              "      <td>...</td>\n",
              "      <td>...</td>\n",
              "      <td>...</td>\n",
              "      <td>...</td>\n",
              "      <td>...</td>\n",
              "      <td>...</td>\n",
              "    </tr>\n",
              "    <tr>\n",
              "      <th>2020-07-30</th>\n",
              "      <td>0.001307</td>\n",
              "      <td>1.233196</td>\n",
              "      <td>0.007016</td>\n",
              "      <td>0.822758</td>\n",
              "      <td>1.233196</td>\n",
              "      <td>0.000000</td>\n",
              "      <td>0.000000</td>\n",
              "      <td>2020</td>\n",
              "      <td>Jul</td>\n",
              "    </tr>\n",
              "    <tr>\n",
              "      <th>2020-07-31</th>\n",
              "      <td>0.005305</td>\n",
              "      <td>1.239738</td>\n",
              "      <td>0.006947</td>\n",
              "      <td>0.771631</td>\n",
              "      <td>1.239738</td>\n",
              "      <td>0.000000</td>\n",
              "      <td>0.000000</td>\n",
              "      <td>2020</td>\n",
              "      <td>Jul</td>\n",
              "    </tr>\n",
              "    <tr>\n",
              "      <th>2020-08-03</th>\n",
              "      <td>-0.005214</td>\n",
              "      <td>1.233275</td>\n",
              "      <td>0.007083</td>\n",
              "      <td>0.512471</td>\n",
              "      <td>1.239738</td>\n",
              "      <td>0.006464</td>\n",
              "      <td>0.005214</td>\n",
              "      <td>2020</td>\n",
              "      <td>Aug</td>\n",
              "    </tr>\n",
              "    <tr>\n",
              "      <th>2020-08-04</th>\n",
              "      <td>0.006236</td>\n",
              "      <td>1.240965</td>\n",
              "      <td>0.006944</td>\n",
              "      <td>0.942642</td>\n",
              "      <td>1.240965</td>\n",
              "      <td>0.000000</td>\n",
              "      <td>0.000000</td>\n",
              "      <td>2020</td>\n",
              "      <td>Aug</td>\n",
              "    </tr>\n",
              "    <tr>\n",
              "      <th>2020-08-05</th>\n",
              "      <td>-0.002866</td>\n",
              "      <td>1.237408</td>\n",
              "      <td>0.006657</td>\n",
              "      <td>1.159091</td>\n",
              "      <td>1.240965</td>\n",
              "      <td>0.003557</td>\n",
              "      <td>0.002866</td>\n",
              "      <td>2020</td>\n",
              "      <td>Aug</td>\n",
              "    </tr>\n",
              "  </tbody>\n",
              "</table>\n",
              "<p>635 rows × 9 columns</p>\n",
              "</div>"
            ],
            "text/plain": [
              "                 ret  cum_return  rolling_volatility  ...  drawdown_pct  Year  Month\n",
              "Date                                                  ...                           \n",
              "2018-01-02  0.000655    1.000655                 NaN  ...      0.000000  2018    Jan\n",
              "2018-01-03 -0.003078    0.997575                 NaN  ...      0.003078  2018    Jan\n",
              "2018-01-04  0.007742    1.005299                 NaN  ...      0.000000  2018    Jan\n",
              "2018-01-05  0.008707    1.014052                 NaN  ...      0.000000  2018    Jan\n",
              "2018-01-08  0.005482    1.019611                 NaN  ...      0.000000  2018    Jan\n",
              "...              ...         ...                 ...  ...           ...   ...    ...\n",
              "2020-07-30  0.001307    1.233196            0.007016  ...      0.000000  2020    Jul\n",
              "2020-07-31  0.005305    1.239738            0.006947  ...      0.000000  2020    Jul\n",
              "2020-08-03 -0.005214    1.233275            0.007083  ...      0.005214  2020    Aug\n",
              "2020-08-04  0.006236    1.240965            0.006944  ...      0.000000  2020    Aug\n",
              "2020-08-05 -0.002866    1.237408            0.006657  ...      0.002866  2020    Aug\n",
              "\n",
              "[635 rows x 9 columns]"
            ]
          },
          "metadata": {
            "tags": []
          },
          "execution_count": 13
        },
        {
          "output_type": "display_data",
          "data": {
            "image/png": "[encoded data removed]",
            "text/plain": [
              "<Figure size 432x288 with 2 Axes>"
            ]
          },
          "metadata": {
            "tags": [],
            "needs_background": "light"
          }
        }
      ]
    },
    {
      "cell_type": "code",
      "metadata": {
        "id": "hRu7I4-wEjQA",
        "colab_type": "code",
        "colab": {}
      },
      "source": [
        ""
      ],
      "execution_count": null,
      "outputs": []
    }
  ]
}